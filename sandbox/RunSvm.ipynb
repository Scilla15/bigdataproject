{
 "cells": [
  {
   "cell_type": "code",
   "execution_count": 6,
   "metadata": {},
   "outputs": [],
   "source": [
    "import pandas as pd\n",
    "import glob\n",
    "import argparse\n",
    "import os\n",
    "import csv\n",
    "import numpy as np\n",
    "from sklearn.model_selection import train_test_split, cross_validate\n",
    "from sklearn import datasets\n",
    "from sklearn import svm\n",
    "from sklearn.model_selection import cross_val_predict\n",
    "from sklearn.metrics import confusion_matrix\n",
    "from sklearn.tree import DecisionTreeClassifier\n",
    "import copy\n",
    "from sklearn.preprocessing import StandardScaler\n",
    "from sklearn.decomposition import PCA"
   ]
  },
  {
   "cell_type": "code",
   "execution_count": 7,
   "metadata": {
    "scrolled": false
   },
   "outputs": [
    {
     "data": {
      "text/plain": [
       "710.9142857142857"
      ]
     },
     "execution_count": 7,
     "metadata": {},
     "output_type": "execute_result"
    }
   ],
   "source": [
    "allStats = pd.read_csv('~/MATH189/project/data/player_data_cleaned.csv')\n",
    "d = copy.deepcopy(allStats)\n",
    "means = allStats[(allStats.Year == 1979)].mean()\n",
    "means = means.drop(['ID', 'Year', 'Player', 'Pos', 'Tm', 'MVP', 'Age'], axis=0, errors='ignore')\n",
    "means.PTS"
   ]
  },
  {
   "cell_type": "code",
   "execution_count": 8,
   "metadata": {},
   "outputs": [],
   "source": [
    "# def normalizeByYear(playerDf):\n",
    "#     normalizedDf = copy.deepcopy(playerDf)\n",
    "#     for year in playerDf.Year.unique():\n",
    "#         for column in playerDf.drop(['ID', 'Year', 'Player', 'Pos', 'Tm', 'MVP'], axis=1, errors='ignore'):\n",
    "#             avgInYear = playerDf[column][(playerDf.Year == year)].mean()\n",
    "#             if avgInYear == 0:\n",
    "#                 avgInYear = .01\n",
    "#             normalizedDf[column][(normalizedDf.Year == year)] = normalizedDf[column][(normalizedDf.Year == year)].div(avgInYear)\n",
    "#     return normalizedDf"
   ]
  },
  {
   "cell_type": "code",
   "execution_count": 9,
   "metadata": {},
   "outputs": [],
   "source": [
    "# normalizedDf = normalizeByYear(allStats)"
   ]
  },
  {
   "cell_type": "code",
   "execution_count": 10,
   "metadata": {},
   "outputs": [],
   "source": [
    "def scaleData(playerDf, label):\n",
    "    # Input: cleaned data pandas df\n",
    "    # Output: scaled X data matrix with unecessary features removed, label vector, as numpy arrays\n",
    "    X = playerDf.drop(['ID','Year','Player','Tm', label], axis=1, errors='ignore')\n",
    "    y = playerDf.loc[:, playerDf.columns == label].values\n",
    "    X = X.astype('float')\n",
    "    X_scaled = StandardScaler().fit_transform(X)\n",
    "    return X_scaled, y"
   ]
  },
  {
   "cell_type": "code",
   "execution_count": 11,
   "metadata": {},
   "outputs": [],
   "source": [
    "def performPca(scaledData, n_components=.95):\n",
    "    #Inputs: scaled data matrix, number of components for pca (starts off as just trying to get 95% of variance)\n",
    "    #Outputs: sklearn pca class\n",
    "    pca = PCA(n_components=n_components)\n",
    "    principalComp = pca.fit_transform(scaledData)\n",
    "    components = []\n",
    "    for i in range(principalComp.shape[1]):\n",
    "        components.append('PC-' + str(i))\n",
    "    principalDf = pd.DataFrame(data=principalComp, columns=components)\n",
    "    return pca, principalDf"
   ]
  },
  {
   "cell_type": "code",
   "execution_count": 12,
   "metadata": {},
   "outputs": [],
   "source": [
    "def runCV(clf, X, y, k, scoring):\n",
    "    # Run total cv\n",
    "    y_pred = cross_val_predict(clf, X, y, cv=k)\n",
    "    unique, counts = np.unique(y_pred, return_counts=True)\n",
    "    conf_mat = confusion_matrix(y, y_pred)\n",
    "    print(dict(zip(unique, counts)))\n",
    "    print(conf_mat)\n",
    "\n",
    "    # Run individual cv's\n",
    "    scores = cross_validate(clf, X, y, cv=k, scoring=scoring)\n",
    "    precision_mean = scores['test_precision_macro'].mean()\n",
    "    recall_mean = scores['test_recall_macro'].mean()\n",
    "    f1_mean = scores['test_f1'].mean()\n",
    "    print('Mean Scores Cross Validation\\nPrecision: ', precision_mean, '\\nRecall: ', recall_mean, '\\nF1: ', f1_mean, '\\n\\n')\n",
    "#     print(scores)"
   ]
  },
  {
   "cell_type": "code",
   "execution_count": 13,
   "metadata": {},
   "outputs": [],
   "source": [
    "def runSVM(X, y, kernel=\"rbf\", C=1.0):\n",
    "    X_train, X_test, y_train, y_test = extractTestAndTrainData(X,y)\n",
    "    clf = svm.SVC(kernel=kernel, C=C)\n",
    "    clf = clf.fit(X_train, y_train)\n",
    "    y_pred = clf.predict(X_test)\n",
    "    tn, fp, fn, tp = confusion_matrix(y_test, y_pred).ravel()\n",
    "    return tn, fp, fn, tp"
   ]
  },
  {
   "cell_type": "code",
   "execution_count": 15,
   "metadata": {
    "scrolled": false
   },
   "outputs": [
    {
     "name": "stdout",
     "output_type": "stream",
     "text": [
      "C parameter of: 0.0625 and linear kernel for cross validation\n",
      "{0: 15811, 1: 6}\n",
      "[[15776     2]\n",
      " [   35     4]]\n"
     ]
    },
    {
     "name": "stderr",
     "output_type": "stream",
     "text": [
      "/Users/gabrielquiroz/anaconda3/lib/python3.7/site-packages/sklearn/metrics/classification.py:1143: UndefinedMetricWarning: Precision is ill-defined and being set to 0.0 in labels with no predicted samples.\n",
      "  'precision', 'predicted', average, warn_for)\n",
      "/Users/gabrielquiroz/anaconda3/lib/python3.7/site-packages/sklearn/metrics/classification.py:1143: UndefinedMetricWarning: F-score is ill-defined and being set to 0.0 due to no predicted samples.\n",
      "  'precision', 'predicted', average, warn_for)\n",
      "/Users/gabrielquiroz/anaconda3/lib/python3.7/site-packages/sklearn/metrics/classification.py:1143: UndefinedMetricWarning: Precision is ill-defined and being set to 0.0 in labels with no predicted samples.\n",
      "  'precision', 'predicted', average, warn_for)\n",
      "/Users/gabrielquiroz/anaconda3/lib/python3.7/site-packages/sklearn/metrics/classification.py:1143: UndefinedMetricWarning: F-score is ill-defined and being set to 0.0 due to no predicted samples.\n",
      "  'precision', 'predicted', average, warn_for)\n"
     ]
    },
    {
     "name": "stdout",
     "output_type": "stream",
     "text": [
      "Mean Scores Cross Validation\n",
      "Precision:  0.748893195521851 \n",
      "Recall:  0.5499366186008489 \n",
      "F1:  0.16444444444444445 \n",
      "\n",
      "\n",
      "C parameter of: 0.125 and linear kernel for cross validation\n",
      "{0: 15805, 1: 12}\n",
      "[[15775     3]\n",
      " [   30     9]]\n"
     ]
    },
    {
     "name": "stderr",
     "output_type": "stream",
     "text": [
      "/Users/gabrielquiroz/anaconda3/lib/python3.7/site-packages/sklearn/metrics/classification.py:1143: UndefinedMetricWarning: Precision is ill-defined and being set to 0.0 in labels with no predicted samples.\n",
      "  'precision', 'predicted', average, warn_for)\n",
      "/Users/gabrielquiroz/anaconda3/lib/python3.7/site-packages/sklearn/metrics/classification.py:1143: UndefinedMetricWarning: F-score is ill-defined and being set to 0.0 due to no predicted samples.\n",
      "  'precision', 'predicted', average, warn_for)\n"
     ]
    },
    {
     "name": "stdout",
     "output_type": "stream",
     "text": [
      "Mean Scores Cross Validation\n",
      "Precision:  0.7790510530105703 \n",
      "Recall:  0.6141906472084896 \n",
      "F1:  0.31661227661227664 \n",
      "\n",
      "\n",
      "C parameter of: 0.25 and linear kernel for cross validation\n",
      "{0: 15803, 1: 14}\n",
      "[[15775     3]\n",
      " [   28    11]]\n",
      "Mean Scores Cross Validation\n",
      "Precision:  0.8957808208178228 \n",
      "Recall:  0.6391906472084896 \n",
      "F1:  0.3937839937839938 \n",
      "\n",
      "\n",
      "C parameter of: 0.5 and linear kernel for cross validation\n",
      "{0: 15792, 1: 25}\n",
      "[[15769     9]\n",
      " [   23    16]]\n",
      "Mean Scores Cross Validation\n",
      "Precision:  0.846176552960803 \n",
      "Recall:  0.705071951668473 \n",
      "F1:  0.5052813852813853 \n",
      "\n",
      "\n",
      "C parameter of: 1.0 and linear kernel for cross validation\n",
      "{0: 15785, 1: 32}\n",
      "[[15765    13]\n",
      " [   20    19]]\n",
      "Mean Scores Cross Validation\n",
      "Precision:  0.8471154044243138 \n",
      "Recall:  0.7442309131988891 \n",
      "F1:  0.5524685840475314 \n",
      "\n",
      "\n",
      "C parameter of: 2.0 and linear kernel for cross validation\n",
      "{0: 15782, 1: 35}\n",
      "[[15762    16]\n",
      " [   20    19]]\n",
      "Mean Scores Cross Validation\n",
      "Precision:  0.796877188911667 \n",
      "Recall:  0.7441358461216644 \n",
      "F1:  0.525062656641604 \n",
      "\n",
      "\n",
      "C parameter of: 4.0 and linear kernel for cross validation\n",
      "{0: 15780, 1: 37}\n",
      "[[15759    19]\n",
      " [   21    18]]\n",
      "Mean Scores Cross Validation\n",
      "Precision:  0.7654602217335531 \n",
      "Recall:  0.7315407489154273 \n",
      "F1:  0.47852474323062555 \n",
      "\n",
      "\n",
      "C parameter of: 8.0 and linear kernel for cross validation\n",
      "{0: 15776, 1: 41}\n",
      "[[15755    23]\n",
      " [   21    18]]\n",
      "Mean Scores Cross Validation\n",
      "Precision:  0.7307632622574672 \n",
      "Recall:  0.7349854146885535 \n",
      "F1:  0.4465934065934066 \n",
      "\n",
      "\n"
     ]
    }
   ],
   "source": [
    "scoring = ['precision_macro', 'recall_macro', 'f1']\n",
    "data_scaled, y = scaleData(allStats, 'MVP')\n",
    "y = y.reshape(y.shape[0],)\n",
    "pca, principalDf = performPca(data_scaled, .999)\n",
    "for i in range(-4,4):\n",
    "    C = 2.0**i\n",
    "    print(\"C parameter of: \" + str(C) + \" and linear kernel for cross validation\")\n",
    "    clf = svm.SVC(kernel=\"linear\", C=C, random_state=0)\n",
    "    runCV(clf,principalDf.values,y,k=5,scoring=scoring)"
   ]
  },
  {
   "cell_type": "code",
   "execution_count": null,
   "metadata": {},
   "outputs": [],
   "source": []
  }
 ],
 "metadata": {
  "kernelspec": {
   "display_name": "Python 3",
   "language": "python",
   "name": "python3"
  },
  "language_info": {
   "codemirror_mode": {
    "name": "ipython",
    "version": 3
   },
   "file_extension": ".py",
   "mimetype": "text/x-python",
   "name": "python",
   "nbconvert_exporter": "python",
   "pygments_lexer": "ipython3",
   "version": "3.7.3"
  }
 },
 "nbformat": 4,
 "nbformat_minor": 2
}
