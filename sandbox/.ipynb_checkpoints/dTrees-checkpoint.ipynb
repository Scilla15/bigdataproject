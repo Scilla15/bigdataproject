{
 "cells": [
  {
   "cell_type": "code",
   "execution_count": 54,
   "metadata": {},
   "outputs": [],
   "source": [
    "import pandas as pd\n",
    "import glob\n",
    "import argparse\n",
    "import os\n",
    "import csv\n",
    "import numpy as np\n",
    "import copy\n",
    "from sklearn.model_selection import train_test_split, cross_validate\n",
    "from sklearn import datasets\n",
    "from sklearn import svm\n",
    "from sklearn.model_selection import cross_val_predict\n",
    "from sklearn.metrics import confusion_matrix\n",
    "from sklearn.tree import DecisionTreeClassifier\n",
    "from sklearn.preprocessing import StandardScaler\n",
    "from sklearn.decomposition import PCA"
   ]
  },
  {
   "cell_type": "code",
   "execution_count": 52,
   "metadata": {},
   "outputs": [],
   "source": [
    "def binData(statsDf, label, nbins=5):\n",
    "    #This returns a new data frame with binned data to run random foresets and decision trees\n",
    "    binDf = copy.deepcopy(statsDf)\n",
    "    getMid = lambda interval : interval.mid\n",
    "    for column in binDf.drop(['ID', 'Year', 'Player', 'Pos', 'Tm', label], axis=1, errors='ignore'):\n",
    "        series = pd.cut(binDf[column], nbins)\n",
    "        binDf[column] = series.apply(getMid)\n",
    "    return binDf"
   ]
  },
  {
   "cell_type": "code",
   "execution_count": 94,
   "metadata": {},
   "outputs": [],
   "source": [
    "def runCVDtree(clf, X, y, k, scoring):\n",
    "    # Run total cv\n",
    "    y_pred = cross_val_predict(clf, X, y, cv=k)\n",
    "    unique, counts = np.unique(y_pred, return_counts=True)\n",
    "    conf_mat = confusion_matrix(y, y_pred)\n",
    "    print(dict(zip(unique, counts)))\n",
    "    print(conf_mat)\n",
    "\n",
    "    # Run individual cv's\n",
    "    scores = cross_validate(clf, X, y, cv=k, scoring=scoring)\n",
    "    precision_mean = scores['test_precision_macro'].mean()\n",
    "    recall_mean = scores['test_recall_macro'].mean()\n",
    "    f1_mean = scores['test_f1'].mean()\n",
    "    print('Mean Scores Cross Validation\\nPrecision: ', precision_mean, '\\nRecall: ', recall_mean, '\\nF1: ', f1_mean, '\\n\\n')"
   ]
  },
  {
   "cell_type": "code",
   "execution_count": 28,
   "metadata": {},
   "outputs": [],
   "source": [
    "def scaleData(playerDf, label):\n",
    "    # Input: cleaned data pandas df\n",
    "    # Output: scaled X data matrix with unecessary features removed, label vector, as numpy arrays\n",
    "    y = playerDf.loc[:, playerDf.columns == label].values\n",
    "    y = y.reshape(y.shape[0],)\n",
    "    X = playerDf.drop(['ID','Year','Player','Tm', label], axis=1, errors='ignore')\n",
    "    X = X.astype('float')\n",
    "    X_scaled = StandardScaler().fit_transform(X)\n",
    "    return X_scaled, y"
   ]
  },
  {
   "cell_type": "code",
   "execution_count": 29,
   "metadata": {},
   "outputs": [],
   "source": [
    "def performPca(scaledData, n_components=.95):\n",
    "    #Inputs: scaled data matrix, number of components for pca (starts off as just trying to get 95% of variance)\n",
    "    #Outputs: sklearn pca class\n",
    "    pca = PCA(n_components=n_components)\n",
    "    principalComp = pca.fit_transform(scaledData)\n",
    "    components = []\n",
    "    for i in range(principalComp.shape[1]):\n",
    "        components.append('PC-' + str(i))\n",
    "    principalDf = pd.DataFrame(data=principalComp, columns=components)\n",
    "    return pca, principalDf"
   ]
  },
  {
   "cell_type": "code",
   "execution_count": 89,
   "metadata": {},
   "outputs": [],
   "source": [
    "def runDTree(df, nDepthsToTry, label):\n",
    "    scoring = ['precision_macro', 'recall_macro', 'f1']\n",
    "    X = df.drop(['ID', 'Year', 'Player', 'Pos', 'Tm', label], axis=1, errors='ignore').values\n",
    "    y = df[label].values\n",
    "    for d in range(5, nDepthsToTry, 5):\n",
    "        print('Depth: ', d)\n",
    "        clf = DecisionTreeClassifier(random_state=0, max_depth=d, max_features=None, splitter=\"best\")\n",
    "        runCVDtree(clf, X, y, 5, scoring)"
   ]
  },
  {
   "cell_type": "code",
   "execution_count": 45,
   "metadata": {},
   "outputs": [],
   "source": [
    "def randomForest(df, nDeptsToTry, label, pca=False):\n",
    "    scoring = ['precision_macro', 'recall_macro', 'f1']\n",
    "    X = df.drop(['ID', 'Year', 'Player', 'Pos', 'Tm', label], axis=1, errors='ignore').values\n",
    "    y = df[label].values\n",
    "    for d in range(5, nDepthsToTry, 5):\n",
    "        print('Depth: ', d)\n",
    "        clf = DecisionTreeClassifier(random_state=0, max_depth=d, max_features=None, splitter=\"best\")\n",
    "        runCVDtree(clf, X, y, 5, scoring)"
   ]
  },
  {
   "cell_type": "code",
   "execution_count": 79,
   "metadata": {},
   "outputs": [],
   "source": [
    "playerData = pd.read_csv('~/MATH189/project/data/player_data_cleaned.csv')\n",
    "playerDataAs = pd.read_csv('~/MATH189/project/data/player_data_cleaned_as.csv')"
   ]
  },
  {
   "cell_type": "code",
   "execution_count": 93,
   "metadata": {
    "scrolled": false
   },
   "outputs": [
    {
     "name": "stdout",
     "output_type": "stream",
     "text": [
      "Depth:  5\n",
      "{0: 15780, 1: 37}\n",
      "[[15751    27]\n",
      " [   29    10]]\n",
      "Mean Scores Cross Validation\n",
      "Precision:  0.6739955740517709 \n",
      "Recall:  0.629501559248129 \n",
      "F1:  0.28918336565395386 \n",
      "\n",
      "\n",
      "Depth:  10\n",
      "{0: 15765, 1: 52}\n",
      "[[15738    40]\n",
      " [   27    12]]\n",
      "Mean Scores Cross Validation\n",
      "Precision:  0.6446748052586954 \n",
      "Recall:  0.6523039010184467 \n",
      "F1:  0.28179866110900587 \n",
      "\n",
      "\n",
      "Depth:  15\n",
      "{0: 15765, 1: 52}\n",
      "[[15738    40]\n",
      " [   27    12]]\n",
      "Mean Scores Cross Validation\n",
      "Precision:  0.6446748052586954 \n",
      "Recall:  0.6523039010184467 \n",
      "F1:  0.28179866110900587 \n",
      "\n",
      "\n",
      "Depth:  20\n",
      "{0: 15765, 1: 52}\n",
      "[[15738    40]\n",
      " [   27    12]]\n",
      "Mean Scores Cross Validation\n",
      "Precision:  0.6446748052586954 \n",
      "Recall:  0.6523039010184467 \n",
      "F1:  0.28179866110900587 \n",
      "\n",
      "\n"
     ]
    }
   ],
   "source": [
    "runDTree(playerData, 25, 'MVP')"
   ]
  },
  {
   "cell_type": "code",
   "execution_count": 121,
   "metadata": {},
   "outputs": [
    {
     "name": "stdout",
     "output_type": "stream",
     "text": [
      "Depth:  5\n",
      "{0: 15788, 1: 29}\n",
      "[[15762    16]\n",
      " [   26    13]]\n",
      "Mean Scores Cross Validation\n",
      "Precision:  0.748343280140849 \n",
      "Recall:  0.6673501017069376 \n",
      "F1:  0.39003496503496504 \n",
      "\n",
      "\n",
      "Depth:  10\n",
      "{0: 15780, 1: 37}\n",
      "[[15753    25]\n",
      " [   27    12]]\n",
      "Mean Scores Cross Validation\n",
      "Precision:  0.6908112823910054 \n",
      "Recall:  0.6545648803892554 \n",
      "F1:  0.31836829836829833 \n",
      "\n",
      "\n",
      "Depth:  15\n",
      "{0: 15780, 1: 37}\n",
      "[[15753    25]\n",
      " [   27    12]]\n",
      "Mean Scores Cross Validation\n",
      "Precision:  0.6908112823910054 \n",
      "Recall:  0.6545648803892554 \n",
      "F1:  0.31836829836829833 \n",
      "\n",
      "\n",
      "Depth:  20\n",
      "{0: 15780, 1: 37}\n",
      "[[15753    25]\n",
      " [   27    12]]\n",
      "Mean Scores Cross Validation\n",
      "Precision:  0.6908112823910054 \n",
      "Recall:  0.6545648803892554 \n",
      "F1:  0.31836829836829833 \n",
      "\n",
      "\n"
     ]
    }
   ],
   "source": [
    "playerDataBinned = binData(playerData, 'MVP', nbins=55)\n",
    "runDTree(playerDataBinned, 25, 'MVP')"
   ]
  },
  {
   "cell_type": "code",
   "execution_count": 69,
   "metadata": {
    "scrolled": false
   },
   "outputs": [
    {
     "name": "stdout",
     "output_type": "stream",
     "text": [
      "Depth:  5\n",
      "{0: 15100, 1: 717}\n",
      "[[14677   184]\n",
      " [  423   533]]\n",
      "Mean Scores Cross Validation\n",
      "Precision:  0.8583528258719552 \n",
      "Recall:  0.7726079532311312 \n",
      "F1:  0.636512489142325 \n",
      "\n",
      "\n",
      "Depth:  10\n",
      "{0: 14909, 1: 908}\n",
      "[[14524   337]\n",
      " [  385   571]]\n",
      "Mean Scores Cross Validation\n",
      "Precision:  0.8079412462296091 \n",
      "Recall:  0.787301515356663 \n",
      "F1:  0.6154662068128688 \n",
      "\n",
      "\n",
      "Depth:  15\n",
      "{0: 14844, 1: 973}\n",
      "[[14477   384]\n",
      " [  367   589]]\n",
      "Mean Scores Cross Validation\n",
      "Precision:  0.7968204734214923 \n",
      "Recall:  0.7951443309246848 \n",
      "F1:  0.6144362105446851 \n",
      "\n",
      "\n",
      "Depth:  20\n",
      "{0: 14803, 1: 1014}\n",
      "[[14432   429]\n",
      " [  371   585]]\n",
      "Mean Scores Cross Validation\n",
      "Precision:  0.7797970310227786 \n",
      "Recall:  0.7915358902833723 \n",
      "F1:  0.5960667964750275 \n",
      "\n",
      "\n"
     ]
    }
   ],
   "source": [
    "runDTree(playerDataAs, 25, 'AS')"
   ]
  },
  {
   "cell_type": "code",
   "execution_count": 124,
   "metadata": {},
   "outputs": [
    {
     "name": "stdout",
     "output_type": "stream",
     "text": [
      "Depth:  5\n",
      "{0: 15138, 1: 679}\n",
      "[[14695   166]\n",
      " [  443   513]]\n",
      "Mean Scores Cross Validation\n",
      "Precision:  0.8704497708797685 \n",
      "Recall:  0.7627153707114912 \n",
      "F1:  0.6288825957147874 \n",
      "\n",
      "\n",
      "Depth:  10\n",
      "{0: 14986, 1: 831}\n",
      "[[14579   282]\n",
      " [  407   549]]\n",
      "Mean Scores Cross Validation\n",
      "Precision:  0.821495384111633 \n",
      "Recall:  0.7776497728585132 \n",
      "F1:  0.6152661977477925 \n",
      "\n",
      "\n",
      "Depth:  15\n",
      "{0: 14868, 1: 949}\n",
      "[[14482   379]\n",
      " [  386   570]]\n",
      "Mean Scores Cross Validation\n",
      "Precision:  0.7913606382003092 \n",
      "Recall:  0.7853564942065633 \n",
      "F1:  0.5987061363408956 \n",
      "\n",
      "\n",
      "Depth:  20\n",
      "{0: 14831, 1: 986}\n",
      "[[14458   403]\n",
      " [  373   583]]\n",
      "Mean Scores Cross Validation\n",
      "Precision:  0.7861061266119173 \n",
      "Recall:  0.7913553078228676 \n",
      "F1:  0.601263368573543 \n",
      "\n",
      "\n"
     ]
    }
   ],
   "source": [
    "playerDataAsBinned = binData(playerDataAs, 'AS', nbins=55)\n",
    "runDTree(playerDataAsBinned, 25, 'AS')"
   ]
  },
  {
   "cell_type": "code",
   "execution_count": null,
   "metadata": {},
   "outputs": [],
   "source": []
  }
 ],
 "metadata": {
  "kernelspec": {
   "display_name": "Python 3",
   "language": "python",
   "name": "python3"
  },
  "language_info": {
   "codemirror_mode": {
    "name": "ipython",
    "version": 3
   },
   "file_extension": ".py",
   "mimetype": "text/x-python",
   "name": "python",
   "nbconvert_exporter": "python",
   "pygments_lexer": "ipython3",
   "version": "3.7.3"
  }
 },
 "nbformat": 4,
 "nbformat_minor": 2
}
