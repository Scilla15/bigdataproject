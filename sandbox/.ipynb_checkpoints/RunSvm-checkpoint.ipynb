{
 "cells": [
  {
   "cell_type": "code",
   "execution_count": 1,
   "metadata": {},
   "outputs": [],
   "source": [
    "import pandas as pd\n",
    "import glob\n",
    "import argparse\n",
    "import os\n",
    "import csv\n",
    "import numpy as np\n",
    "from sklearn.model_selection import train_test_split, cross_validate\n",
    "from sklearn import datasets\n",
    "from sklearn import svm\n",
    "from sklearn.model_selection import cross_val_predict\n",
    "from sklearn.metrics import confusion_matrix\n",
    "from sklearn.tree import DecisionTreeClassifier\n",
    "import copy\n",
    "from sklearn.preprocessing import StandardScaler\n",
    "from sklearn.decomposition import PCA"
   ]
  },
  {
   "cell_type": "code",
   "execution_count": 3,
   "metadata": {},
   "outputs": [
    {
     "data": {
      "text/plain": [
       "522.5238095238095"
      ]
     },
     "execution_count": 3,
     "metadata": {},
     "output_type": "execute_result"
    }
   ],
   "source": [
    "allStats = pd.read_csv('~/MATH189/project/data/player_data_cleaned_as.csv')\n",
    "allStats['PTS'][(allStats.Year == 1997)].mean()"
   ]
  },
  {
   "cell_type": "code",
   "execution_count": 103,
   "metadata": {},
   "outputs": [],
   "source": [
    "def normalizeByYear(playerDf):\n",
    "    normalizedDf = copy.deepcopy(playerDf)\n",
    "    for year in playerDf.Year.unique():\n",
    "        for column in playerDf.drop(['ID', 'Year', 'Player', 'Pos', 'Tm', 'MVP'], axis=1, errors='ignore'):\n",
    "            avgInYear = playerDf[column][(playerDf.Year == year)].mean()"
   ]
  },
  {
   "cell_type": "code",
   "execution_count": 105,
   "metadata": {},
   "outputs": [],
   "source": [
    "def scaleData(playerDf, label):\n",
    "    # Input: cleaned data pandas df\n",
    "    # Output: scaled X data matrix with unecessary features removed, label vector, as numpy arrays\n",
    "    X = playerDf.drop(['ID','Year','Player','Tm', label], axis=1, errors='ignore')\n",
    "    y = playerDf.loc[:, playerDf.columns == label].values\n",
    "    X = X.astype('float')\n",
    "    X_scaled = StandardScaler().fit_transform(X)\n",
    "    return X_scaled, y"
   ]
  },
  {
   "cell_type": "code",
   "execution_count": 106,
   "metadata": {},
   "outputs": [],
   "source": [
    "def performPca(scaledData, n_components=.95):\n",
    "    #Inputs: scaled data matrix, number of components for pca (starts off as just trying to get 95% of variance)\n",
    "    #Outputs: sklearn pca class\n",
    "    pca = PCA(n_components=n_components)\n",
    "    principalComp = pca.fit_transform(scaledData)\n",
    "    components = []\n",
    "    for i in range(principalComp.shape[1]):\n",
    "        components.append('PC-' + str(i))\n",
    "    principalDf = pd.DataFrame(data=principalComp, columns=components)\n",
    "    return pca, principalDf"
   ]
  },
  {
   "cell_type": "code",
   "execution_count": 107,
   "metadata": {},
   "outputs": [],
   "source": [
    "def runCV(clf, X, y, k, scoring):\n",
    "    # Run total cv\n",
    "    y_pred = cross_val_predict(clf, X, y, cv=k)\n",
    "    unique, counts = np.unique(y_pred, return_counts=True)\n",
    "    conf_mat = confusion_matrix(y, y_pred)\n",
    "    print(dict(zip(unique, counts)))\n",
    "    print(conf_mat)\n",
    "\n",
    "    # Run individual cv's\n",
    "    scores = cross_validate(clf, X, y, cv=k, scoring=scoring)\n",
    "    precision_mean = scores['test_precision_macro'].mean()\n",
    "    recall_mean = scores['test_recall_macro'].mean()\n",
    "    f1_mean = scores['test_f1'].mean()\n",
    "    print('Mean Scores Cross Validation\\nPrecision: ', precision_mean, '\\nRecall: ', recall_mean, '\\nF1: ', f1_mean, '\\n\\n')\n",
    "#     print(scores)"
   ]
  },
  {
   "cell_type": "code",
   "execution_count": 108,
   "metadata": {},
   "outputs": [],
   "source": [
    "def runSVM(X, y, kernel=\"rbf\", C=1.0):\n",
    "    X_train, X_test, y_train, y_test = extractTestAndTrainData(X,y)\n",
    "    clf = svm.SVC(kernel=kernel, C=C)\n",
    "    clf = clf.fit(X_train, y_train)\n",
    "    y_pred = clf.predict(X_test)\n",
    "    tn, fp, fn, tp = confusion_matrix(y_test, y_pred).ravel()\n",
    "    return tn, fp, fn, tp"
   ]
  },
  {
   "cell_type": "code",
   "execution_count": 109,
   "metadata": {
    "scrolled": false
   },
   "outputs": [
    {
     "name": "stdout",
     "output_type": "stream",
     "text": [
      "C parameter of: 0.0625 and linear kernel for cross validation\n",
      "{0: 15060, 1: 757}\n",
      "[[14703   158]\n",
      " [  357   599]]\n",
      "Mean Scores Cross Validation\n",
      "Precision:  0.884532551283417 \n",
      "Recall:  0.807983187341476 \n",
      "F1:  0.6992546695505473 \n",
      "\n",
      "\n",
      "C parameter of: 0.125 and linear kernel for cross validation\n",
      "{0: 15049, 1: 768}\n",
      "[[14696   165]\n",
      " [  353   603]]\n",
      "Mean Scores Cross Validation\n",
      "Precision:  0.882389490746865 \n",
      "Recall:  0.8098337725106205 \n",
      "F1:  0.6994716603407471 \n",
      "\n",
      "\n",
      "C parameter of: 0.25 and linear kernel for cross validation\n",
      "{0: 15037, 1: 780}\n",
      "[[14690   171]\n",
      " [  347   609]]\n",
      "Mean Scores Cross Validation\n",
      "Precision:  0.8810395226618223 \n",
      "Recall:  0.8127596604042859 \n",
      "F1:  0.7016427963108589 \n",
      "\n",
      "\n",
      "C parameter of: 0.5 and linear kernel for cross validation\n",
      "{0: 15037, 1: 780}\n",
      "[[14689   172]\n",
      " [  348   608]]\n",
      "Mean Scores Cross Validation\n",
      "Precision:  0.8807215656297618 \n",
      "Recall:  0.8122052023307493 \n",
      "F1:  0.7005258123368749 \n",
      "\n",
      "\n",
      "C parameter of: 1.0 and linear kernel for cross validation\n",
      "{0: 15032, 1: 785}\n",
      "[[14686   175]\n",
      " [  346   610]]\n",
      "Mean Scores Cross Validation\n",
      "Precision:  0.8796298229858495 \n",
      "Recall:  0.8131513806230831 \n",
      "F1:  0.7006738184558473 \n",
      "\n",
      "\n",
      "C parameter of: 2.0 and linear kernel for cross validation\n",
      "{0: 15029, 1: 788}\n",
      "[[14685   176]\n",
      " [  344   612]]\n",
      "Mean Scores Cross Validation\n",
      "Precision:  0.8796072741829537 \n",
      "Recall:  0.8141621381079865 \n",
      "F1:  0.7018763029695749 \n",
      "\n",
      "\n",
      "C parameter of: 4.0 and linear kernel for cross validation\n",
      "{0: 15027, 1: 790}\n",
      "[[14684   177]\n",
      " [  343   613]]\n",
      "Mean Scores Cross Validation\n",
      "Precision:  0.8793417383113095 \n",
      "Recall:  0.8146493240658153 \n",
      "F1:  0.7021940306768268 \n",
      "\n",
      "\n",
      "C parameter of: 8.0 and linear kernel for cross validation\n",
      "{0: 15025, 1: 792}\n",
      "[[14684   177]\n",
      " [  341   615]]\n",
      "Mean Scores Cross Validation\n",
      "Precision:  0.8796299224502887 \n",
      "Recall:  0.8156964444846635 \n",
      "F1:  0.7037464822244793 \n",
      "\n",
      "\n"
     ]
    }
   ],
   "source": [
    "scoring = ['precision_macro', 'recall_macro', 'f1']\n",
    "data_scaled, y = scaleData(allStats, 'AS')\n",
    "y = y.reshape(y.shape[0],)\n",
    "pca, principalDf = performPca(data_scaled, .999)\n",
    "for i in range(-4,4):\n",
    "    C = 2.0**i\n",
    "    print(\"C parameter of: \" + str(C) + \" and linear kernel for cross validation\")\n",
    "    clf = svm.SVC(kernel=\"linear\", C=C, random_state=0)\n",
    "    runCV(clf,principalDf.values,y,k=5,scoring=scoring)"
   ]
  }
 ],
 "metadata": {
  "kernelspec": {
   "display_name": "Python 3",
   "language": "python",
   "name": "python3"
  },
  "language_info": {
   "codemirror_mode": {
    "name": "ipython",
    "version": 3
   },
   "file_extension": ".py",
   "mimetype": "text/x-python",
   "name": "python",
   "nbconvert_exporter": "python",
   "pygments_lexer": "ipython3",
   "version": "3.7.3"
  }
 },
 "nbformat": 4,
 "nbformat_minor": 2
}
